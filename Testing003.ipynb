{
 "cells": [
  {
   "cell_type": "code",
   "execution_count": 13,
   "id": "ff813fdd",
   "metadata": {},
   "outputs": [
    {
     "name": "stdout",
     "output_type": "stream",
     "text": [
      "No NIM Nama Nama Anggota yang Ikut Keperluan Hari Ruang Dosen Penanggung Jawab Tanggal Pinjam Jam Pinjam Jam Berakhir Status\n",
      "1 123456789 mahasiswa Budi,Toni,Candra Mengerjakan PBL selasa GU 707 selly@polibatam.ac.id 2022-02-10 10:10:00 12:10:00 terima\n",
      "2 123456789 mahasiswa sdasds asdads selasa GU 707 dwialikhs@polibatam.ac.id 0000-00-00 02:12:00 00:00:00 terima\n",
      "3 123456789 mahasiswa abc abc selasa GU 707 wibowo@polibatam.ac.id 2022-12-12 10:12:00 12:12:00 terima\n",
      "4 123456789 mahasiswa abc abc selasa GU 707 wibowo@polibatam.ac.id 2022-12-12 10:12:00 12:12:00 terima\n",
      "5 123456789 mahasiswa Budi,Toni,Candra Mengerjakan PBL selasa GU 707 selly@polibatam.ac.id 2022-02-10 10:10:00 12:10:00 terima\n",
      "6 123456789 mahasiswa Budi,Toni,Candra Mengerjakan PBL selasa GU 707 selly@polibatam.ac.id 2022-02-10 10:10:00 12:10:00 terima\n",
      "7 123456789 mahasiswa Budi,Toni,Candra Mengerjakan PBL selasa GU 707 selly@polibatam.ac.id 2022-02-10 10:10:00 12:10:00 terima\n",
      "8 123456789 mahasiswa Budi,Toni,Candra Mengerjakan PBL selasa GU 707 selly@polibatam.ac.id 2022-02-10 10:10:00 12:10:00 terima\n",
      "9 123456789 mahasiswa Budi,Toni,Candra Mengerjakan PBL selasa GU 707 selly@polibatam.ac.id 2022-02-10 10:10:00 12:10:00 terima\n",
      "10 123456789 mahasiswa Budi,Toni,Candra Mengerjakan PBL selasa GU 707 selly@polibatam.ac.id 2022-02-10 10:10:00 12:10:00 terima\n",
      "11 123456789 mahasiswa Budi,Toni,Candra Mengerjakan PBL selasa GU 707 selly@polibatam.ac.id 2022-02-10 10:10:00 12:10:00 terima\n",
      "12 123456789 mahasiswa Budi,Toni,Candra Mengerjakan PBL selasa GU 707 selly@polibatam.ac.id 2022-02-10 10:10:00 12:10:00 terima\n",
      "13 123456789 mahasiswa Budi,Toni,Candra Mengerjakan PBL selasa GU 707 selly@polibatam.ac.id 2022-02-10 10:10:00 12:10:00 terima\n",
      "14 123456789 mahasiswa Budi,Toni,Candra Mengerjakan PBL selasa GU 707 selly@polibatam.ac.id 2022-02-10 10:10:00 12:10:00 terima\n"
     ]
    }
   ],
   "source": [
    "from selenium import webdriver\n",
    "import time\n",
    "from selenium.webdriver.chrome.service import Service\n",
    "from webdriver_manager.chrome import ChromeDriverManager\n",
    "from selenium.webdriver.common.by import By\n",
    "\n",
    "web = webdriver.Chrome(service=Service(ChromeDriverManager().install()))\n",
    "web.get('http://localhost/Mini-PBL/mahasiswa/Form-Pengajuan.php')\n",
    "web.maximize_window()\n",
    "\n",
    "username = web.find_element(By.XPATH, '//*[@id=\"exampleInputEmail1\"]')\n",
    "# username.click()\n",
    "username.send_keys(\"mahasiswa\")\n",
    "\n",
    "\n",
    "password = web.find_element(By.XPATH, '//*[@id=\"exampleInputPassword1\"]')\n",
    "# password.click()\n",
    "password.send_keys(\"mahasiswa123\")\n",
    "\n",
    "login = web.find_element(By.XPATH, '/html/body/div[1]/div/div[2]/form/div[4]/button')\n",
    "login.click()\n",
    "\n",
    "Status_Pengajuan = web.find_element(By.XPATH, '/html/body/div[1]/div[1]/div[2]/div[4]')\n",
    "Status_Pengajuan.click()\n",
    "\n",
    "lihat_status = web.find_element(By.XPATH, '/html/body/div[1]/div[2]/div/div[2]/div')\n",
    "print(lihat_status.text)"
   ]
  }
 ],
 "metadata": {
  "kernelspec": {
   "display_name": "Python 3 (ipykernel)",
   "language": "python",
   "name": "python3"
  },
  "language_info": {
   "codemirror_mode": {
    "name": "ipython",
    "version": 3
   },
   "file_extension": ".py",
   "mimetype": "text/x-python",
   "name": "python",
   "nbconvert_exporter": "python",
   "pygments_lexer": "ipython3",
   "version": "3.10.6"
  }
 },
 "nbformat": 4,
 "nbformat_minor": 5
}
