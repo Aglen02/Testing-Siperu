{
 "cells": [
  {
   "cell_type": "code",
   "execution_count": 8,
   "id": "5f9f4517",
   "metadata": {},
   "outputs": [
    {
     "name": "stdout",
     "output_type": "stream",
     "text": [
      "Berhasil Login\n",
      "Halo mahasiswa! Anda telah berhasil login sebagai mahasiswa\n"
     ]
    }
   ],
   "source": [
    "# Login Sukses\n",
    "from selenium import webdriver\n",
    "import time\n",
    "from selenium.webdriver.chrome.service import Service\n",
    "from webdriver_manager.chrome import ChromeDriverManager\n",
    "from selenium.webdriver.common.by import By\n",
    "\n",
    "web = webdriver.Chrome(service=Service(ChromeDriverManager().install()))\n",
    "web.get('http://localhost/Mini-PBL/mahasiswa/Form-Pengajuan.php')\n",
    "web.maximize_window()\n",
    "\n",
    "username = web.find_element(By.XPATH, '//*[@id=\"exampleInputEmail1\"]')\n",
    "username.send_keys(\"mahasiswa\")\n",
    "\n",
    "\n",
    "password = web.find_element(By.XPATH, '//*[@id=\"exampleInputPassword1\"]')\n",
    "password.send_keys(\"mahasiswa123\")\n",
    "\n",
    "login = web.find_element(By.XPATH, '/html/body/div[1]/div/div[2]/form/div[4]/button')\n",
    "login.click()\n",
    "\n",
    "try:\n",
    "    print(web.find_element(By.XPATH, '/html/body/div[1]/div[2]/div/div[2]').text)\n",
    "    print('Berhasil Login')\n",
    "except:\n",
    "    print('Login Gagal')\n",
    "    print( web.find_element(By.XPATH, '/html/body/div[1]/div/div[1]/div').text)"
   ]
  },
  {
   "cell_type": "code",
   "execution_count": 6,
   "id": "222f5f1d",
   "metadata": {},
   "outputs": [
    {
     "name": "stdout",
     "output_type": "stream",
     "text": [
      "Login Gagal\n",
      "Username dan Password tidak sesuai !\n"
     ]
    }
   ],
   "source": [
    "# Login gagal\n",
    "from selenium import webdriver\n",
    "import time\n",
    "from selenium.webdriver.chrome.service import Service\n",
    "from webdriver_manager.chrome import ChromeDriverManager\n",
    "from selenium.webdriver.common.by import By\n",
    "\n",
    "web = webdriver.Chrome(service=Service(ChromeDriverManager().install()))\n",
    "web.get('http://localhost/Mini-PBL/mahasiswa/Form-Pengajuan.php')\n",
    "web.maximize_window()\n",
    "\n",
    "username = web.find_element(By.XPATH, '//*[@id=\"exampleInputEmail1\"]')\n",
    "username.send_keys(\"mahasiswa\")\n",
    "\n",
    "\n",
    "password = web.find_element(By.XPATH, '//*[@id=\"exampleInputPassword1\"]')\n",
    "password.send_keys(\"mahasiswa\")\n",
    "\n",
    "login = web.find_element(By.XPATH, '/html/body/div[1]/div/div[2]/form/div[4]/button')\n",
    "login.click()\n",
    "\n",
    "try:\n",
    "    print(web.find_element(By.XPATH, '/html/body/div[1]/div[2]/div/div[2]').text)\n",
    "    print('Berhasil Login')\n",
    "except:\n",
    "    print('Login Gagal')\n",
    "    print( web.find_element(By.XPATH, '/html/body/div[1]/div/div[1]/div').text)"
   ]
  }
 ],
 "metadata": {
  "kernelspec": {
   "display_name": "Python 3 (ipykernel)",
   "language": "python",
   "name": "python3"
  },
  "language_info": {
   "codemirror_mode": {
    "name": "ipython",
    "version": 3
   },
   "file_extension": ".py",
   "mimetype": "text/x-python",
   "name": "python",
   "nbconvert_exporter": "python",
   "pygments_lexer": "ipython3",
   "version": "3.10.6"
  }
 },
 "nbformat": 4,
 "nbformat_minor": 5
}
