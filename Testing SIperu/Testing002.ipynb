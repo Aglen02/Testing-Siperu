{
 "cells": [
  {
   "cell_type": "code",
   "execution_count": 2,
   "id": "2abcc818",
   "metadata": {},
   "outputs": [],
   "source": [
    "# Pake yang bawah\n",
    "from selenium import webdriver\n",
    "import time\n",
    "from selenium.webdriver.chrome.service import Service\n",
    "from webdriver_manager.chrome import ChromeDriverManager\n",
    "from selenium.webdriver.common.by import By\n",
    "\n",
    "web = webdriver.Chrome(service=Service(ChromeDriverManager().install()))\n",
    "web.get('http://localhost/Mini-PBL/mahasiswa/Form-Pengajuan.php')\n",
    "web.maximize_window()\n",
    "\n",
    "username = web.find_element(By.XPATH, '//*[@id=\"exampleInputEmail1\"]')\n",
    "# username.click()\n",
    "username.send_keys(\"admin\")\n",
    "\n",
    "\n",
    "password = web.find_element(By.XPATH, '//*[@id=\"exampleInputPassword1\"]')\n",
    "# password.click()\n",
    "password.send_keys(\"admin\")\n",
    "\n",
    "login = web.find_element(By.XPATH, '/html/body/div[1]/div/div[2]/form/div[4]/button')\n",
    "login.click()\n",
    "\n",
    "verifikasi = web.find_element(By.XPATH, '/html/body/div[1]/div[1]/div[2]/div[1]/a/i')\n",
    "verifikasi.click()\n",
    "\n",
    "terima = web.find_element(By.XPATH, '/html/body/div[1]/div[2]/div/div[2]/div/table/tbody/tr[1]/td[12]/input')\n",
    "terima.click()"
   ]
  },
  {
   "cell_type": "code",
   "execution_count": 15,
   "id": "26a79c01",
   "metadata": {},
   "outputs": [
    {
     "name": "stdout",
     "output_type": "stream",
     "text": [
      "Done\n"
     ]
    }
   ],
   "source": [
    "# Testing002 \n",
    "from selenium import webdriver\n",
    "import time\n",
    "from selenium.webdriver.chrome.service import Service\n",
    "from webdriver_manager.chrome import ChromeDriverManager\n",
    "from selenium.webdriver.common.by import By\n",
    "\n",
    "web = webdriver.Chrome(service=Service(ChromeDriverManager().install()))\n",
    "web.get('http://localhost/Mini-PBL/mahasiswa/Form-Pengajuan.php')\n",
    "web.maximize_window()\n",
    "\n",
    "username = web.find_element(By.XPATH, '//*[@id=\"exampleInputEmail1\"]')\n",
    "# username.click()\n",
    "username.send_keys(\"admin\")\n",
    "\n",
    "\n",
    "password = web.find_element(By.XPATH, '//*[@id=\"exampleInputPassword1\"]')\n",
    "# password.click()\n",
    "password.send_keys(\"admin\")\n",
    "\n",
    "login = web.find_element(By.XPATH, '/html/body/div[1]/div/div[2]/form/div[4]/button')\n",
    "login.click()\n",
    "\n",
    "verifikasi = web.find_element(By.XPATH, '/html/body/div[1]/div[1]/div[2]/div[1]/a/i')\n",
    "verifikasi.click()\n",
    "\n",
    "try:\n",
    "    terima = web.find_element(By.XPATH, '/html/body/div[1]/div[2]/div/div[2]/div/table/tbody/tr[1]/td[12]/input')\n",
    "    terima.click()\n",
    "    time.sleep(2)\n",
    "    while True:\n",
    "        terima1 = web.find_element(By.XPATH, '/html/body/div/div[2]/div/div[3]/div/table/tbody/tr[1]/td[12]/input')\n",
    "        terima1.click()\n",
    "        time.sleep(1)\n",
    "except:\n",
    "    print('Semua data berhasil di verifikasi')\n"
   ]
  }
 ],
 "metadata": {
  "kernelspec": {
   "display_name": "Python 3 (ipykernel)",
   "language": "python",
   "name": "python3"
  },
  "language_info": {
   "codemirror_mode": {
    "name": "ipython",
    "version": 3
   },
   "file_extension": ".py",
   "mimetype": "text/x-python",
   "name": "python",
   "nbconvert_exporter": "python",
   "pygments_lexer": "ipython3",
   "version": "3.10.6"
  }
 },
 "nbformat": 4,
 "nbformat_minor": 5
}
